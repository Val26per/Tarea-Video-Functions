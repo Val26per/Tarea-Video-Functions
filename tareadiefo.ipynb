{
 "cells": [
  {
   "cell_type": "code",
   "execution_count": 2,
   "metadata": {},
   "outputs": [
    {
     "name": "stderr",
     "output_type": "stream",
     "text": [
      "[ WARN:0] global ./modules/videoio/src/cap_gstreamer.cpp (1100) open OpenCV | GStreamer warning: Cannot query video position: status=0, value=-1, duration=-1\n"
     ]
    }
   ],
   "source": [
    "import cv2\n",
    "import os\n",
    "\n",
    "# Crear la carpeta para guardar los frames si no existe\n",
    "output_folder = 'frames'\n",
    "if not os.path.exists(output_folder):\n",
    "    os.makedirs(output_folder)\n",
    "\n",
    "# Video original\n",
    "video_original = cv2.VideoCapture(0)\n",
    "width = int(video_original.get(cv2.CAP_PROP_FRAME_WIDTH))\n",
    "height = int(video_original.get(cv2.CAP_PROP_FRAME_HEIGHT))\n",
    "fps = 20\n",
    "writer = cv2.VideoWriter('Video_original.mp4', cv2.VideoWriter_fourcc(*'mp4v'), fps, (width, height))\n",
    "\n",
    "frame_count = 0\n",
    "while True:\n",
    "    ret, frame = video_original.read()\n",
    "    if not ret:\n",
    "        break\n",
    "\n",
    "    frame_count += 1\n",
    "    frame_filename = os.path.join(output_folder, f'frame_{frame_count}.jpg')\n",
    "    cv2.imwrite(frame_filename, frame)\n",
    "\n",
    "    writer.write(frame)\n",
    "    cv2.imshow('frame', frame)\n",
    "    if cv2.waitKey(1) & 0xFF == ord('a'):\n",
    "        break\n",
    "\n",
    "video_original.release()\n",
    "writer.release()\n",
    "cv2.destroyAllWindows()\n",
    "\n",
    "# Video en reversa\n",
    "videoreversa = cv2.VideoCapture(\"Video_original.mp4\")\n",
    "frame_list = []\n",
    "\n",
    "while True:\n",
    "    check, vid = videoreversa.read()\n",
    "    if not check:\n",
    "        break\n",
    "    frame_list.append(vid)\n",
    "\n",
    "frame_list.reverse()\n",
    "\n",
    "writer_reverse = cv2.VideoWriter('video_en_reversa.mp4', cv2.VideoWriter_fourcc(*'mp4v'), fps, (width, height))\n",
    "\n",
    "for frame in frame_list:\n",
    "    cv2.imshow(\"Frame\", frame)\n",
    "    writer_reverse.write(frame)\n",
    "    if cv2.waitKey(1) & 0xFF == ord('a'):\n",
    "        break\n",
    "\n",
    "videoreversa.release()\n",
    "writer_reverse.release()\n",
    "cv2.destroyAllWindows()\n",
    "\n",
    "# Unión de videos Original y de reversa\n",
    "union = [\"Video_original.mp4\", \"video_en_reversa.mp4\"]\n",
    "\n",
    "video = cv2.VideoWriter(\"union.mp4\", cv2.VideoWriter_fourcc(*\"mp4v\"), fps, (width, height))\n",
    "\n",
    "for videounion in union:\n",
    "    curr_v = cv2.VideoCapture(videounion)\n",
    "    while curr_v.isOpened():\n",
    "        r, frame = curr_v.read()\n",
    "        if not r:\n",
    "            break\n",
    "        video.write(frame)\n",
    "video.release()\n"
   ]
  }
 ],
 "metadata": {
  "kernelspec": {
   "display_name": "Python 3",
   "language": "python",
   "name": "python3"
  },
  "language_info": {
   "codemirror_mode": {
    "name": "ipython",
    "version": 3
   },
   "file_extension": ".py",
   "mimetype": "text/x-python",
   "name": "python",
   "nbconvert_exporter": "python",
   "pygments_lexer": "ipython3",
   "version": "3.10.12"
  }
 },
 "nbformat": 4,
 "nbformat_minor": 2
}
